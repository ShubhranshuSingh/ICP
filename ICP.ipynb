{
 "cells": [
  {
   "cell_type": "code",
   "execution_count": 1,
   "metadata": {},
   "outputs": [],
   "source": [
    "import numpy as np\n",
    "\n",
    "def points_from_file(path):\n",
    "    f = open(path,'r')\n",
    "    lines = f.readlines()\n",
    "    points = np.zeros((len(lines),len(lines[0].split()))) # Numpy array to store points\n",
    "    i = 0\n",
    "    for line in lines:\n",
    "        points[i] = list(map(float, line.split())) # Points read from file and stored in points\n",
    "        i += 1\n",
    "    return points\n",
    "\n",
    "def initial_descriptor(points, dim):\n",
    "    descriptor = np.zeros((points.shape[0],dim))\n",
    "    for i in range(points.shape[0]):\n",
    "        point_sub = points - points[i] # Subtract given point from all other points\n",
    "        point_sub = np.delete(point_sub,i,0) # Remove the row with all zeros\n",
    "        descriptor[i] = np.sort((point_sub[:,0]**2 + point_sub[:,1]**2 + point_sub[:,2]**2))[:dim] # Get the descriptor based on distance\n",
    "    return descriptor\n",
    "\n",
    "def matching_func(points_1, points_2, descriptor_1, descriptor_2):\n",
    "    \n",
    "    matched_descriptors = np.zeros(points_1.shape[0]) # if ith descriptor_1 matches with jth descriptor_2, matched_descriptors[i] = j\n",
    "    for i in range(points_1.shape[0]):\n",
    "        diff_descriptor = descriptor_2 - descriptor_1[i] # Subtract given descriptor from all other descriptors\n",
    "        dist_descriptor = diff_descriptor**2 # Square each element\n",
    "        dist_descriptor = np.sum(dist_descriptor, axis = 1) # Final Distance between two descriptors\n",
    "        matched_descriptors[i] = dist_descriptor.argmin() # Matched descriptors will have minimum distance\n",
    "        \n",
    "    return matched_descriptors\n",
    "\n",
    "def mmse(points_1, points_2, Rot_mat, trans): # Mean squared error\n",
    "    error = 0\n",
    "    for i in range(points_1.shape[0]):\n",
    "        error += np.linalg.norm(np.dot(Rot_mat,points_1[i].reshape(3,1)) + trans - points_2[i].reshape(3,1))**2\n",
    "    return error\n",
    "\n",
    "def rigid_trans(points_1, points_2, matches, max_iter = 5):\n",
    "    \n",
    "    count = 0 # No. of iterations\n",
    "    while True:    \n",
    "        corresponding_points = points_2[matches.astype(int)] # Rearrange Q point cloud based on matches\n",
    "        centroid_1 = np.mean(points_1, axis = 0) # Centroid of fisrt point cloud\n",
    "        centroid_2 = np.mean(corresponding_points, axis = 0) # Centroid of second point cloud\n",
    "\n",
    "        # Point cloud centroids\n",
    "        x = points_1 - centroid_1  \n",
    "        y = points_2 - centroid_2\n",
    "        \n",
    "        # Covariance Matrix with its SVD\n",
    "        S = np.dot(x.T,y)\n",
    "        U, E, V_T = np.linalg.svd(S)\n",
    "        \n",
    "        # Rotation and Translation\n",
    "        R = np.dot(V_T.T,U.T)\n",
    "        t = centroid_2.reshape(3,1)- np.dot(R,centroid_1.reshape(3,1))\n",
    "        \n",
    "        # Error\n",
    "        error = mmse(points_1, points_2, R, t)\n",
    "        \n",
    "        # Transformed points matched by minimzing distance from Q point cloud\n",
    "        new_points_2 = (np.dot(R,p_points.T) + t).T\n",
    "        matches = matching_func(new_points_2, points_2, new_points_2, points_2)\n",
    "        count += 1\n",
    "        \n",
    "        if error < 1e-4 or count == max_iter:\n",
    "            break\n",
    "    return R, t, new_points_2"
   ]
  },
  {
   "cell_type": "code",
   "execution_count": 2,
   "metadata": {},
   "outputs": [],
   "source": [
    "# Point clouds\n",
    "p_points = points_from_file('P_1.txt') \n",
    "q_points = points_from_file('Q_1.txt') \n",
    "\n",
    "# Descriptors\n",
    "p_descriptor = initial_descriptor(p_points, 128)\n",
    "q_descriptor = initial_descriptor(q_points, 128)\n",
    "\n",
    "# Initial matches through descriptors\n",
    "initial_matches = matching_func(p_points, q_points, p_descriptor, q_descriptor)"
   ]
  },
  {
   "cell_type": "code",
   "execution_count": null,
   "metadata": {},
   "outputs": [],
   "source": [
    "# Find R, t and transformed points\n",
    "R, t , transformed_points = rigid_trans(p_points,q_points, initial_matches)\n",
    "\n",
    "#Plot all point clouds\n",
    "%matplotlib widget # Installion - https://github.com/matplotlib/jupyter-matplotlib\n",
    "import matplotlib.pyplot as plt\n",
    "from mpl_toolkits.mplot3d import Axes3D\n",
    "fig = plt.figure()\n",
    "ax0 = fig.add_subplot(131, projection='3d')\n",
    "ax0.scatter(p_points[:,0], p_points[:,1], p_points[:,2], c='g')\n",
    "ax1 = fig.add_subplot(132, projection='3d')\n",
    "ax1.scatter(q_points[:,0], q_points[:,1], q_points[:,2], c= 'b')\n",
    "ax2 = fig.add_subplot(133, projection='3d')\n",
    "ax2.scatter(transformed_points[:,0], transformed_points[:,1], transformed_points[:,2], c ='r')"
   ]
  },
  {
   "cell_type": "code",
   "execution_count": 4,
   "metadata": {},
   "outputs": [
    {
     "name": "stdout",
     "output_type": "stream",
     "text": [
      "Rotation Matrix: \n",
      "[[ 7.66044443e-01 -2.87019658e-10 -6.42787610e-01]\n",
      " [-5.82563416e-01  4.22618262e-01 -6.94272044e-01]\n",
      " [ 2.71653783e-01  9.06307787e-01  3.23744371e-01]]\n",
      "\n",
      "Translation Vector: \n",
      "[[1.        ]\n",
      " [1.00000001]\n",
      " [1.00000002]]\n"
     ]
    }
   ],
   "source": [
    "print('Rotation Matrix: ')\n",
    "print(R)\n",
    "print()\n",
    "print('Translation Vector: ')\n",
    "print(t)"
   ]
  },
  {
   "cell_type": "code",
   "execution_count": 5,
   "metadata": {},
   "outputs": [
    {
     "name": "stdout",
     "output_type": "stream",
     "text": [
      "Transformed Points: \n",
      " [[ -87.02132408  -88.92669117   56.38706898]\n",
      " [ -88.13931699  -90.43370947   56.30827946]\n",
      " [ -90.72974625  -94.19743731   55.54262028]\n",
      " ...\n",
      " [-139.18426503  -41.39007533   20.49891548]\n",
      " [-140.15059147  -41.61962581   19.9048074 ]\n",
      " [-138.05407819  -43.11358465   20.98970627]] \n",
      "\n",
      " Points in Q: \n",
      " [[ -87.021324  -88.926691   56.387069]\n",
      " [ -88.139317  -90.433709   56.308279]\n",
      " [ -90.729746  -94.197437   55.54262 ]\n",
      " ...\n",
      " [-139.184265  -41.390075   20.498915]\n",
      " [-140.150591  -41.619626   19.904807]\n",
      " [-138.054078  -43.113585   20.989706]]\n"
     ]
    }
   ],
   "source": [
    "print('Transformed Points: \\n',transformed_points,\n",
    "      '\\n\\n','Points in Q: \\n', q_points)"
   ]
  },
  {
   "cell_type": "code",
   "execution_count": null,
   "metadata": {},
   "outputs": [],
   "source": []
  },
  {
   "cell_type": "code",
   "execution_count": null,
   "metadata": {},
   "outputs": [],
   "source": []
  }
 ],
 "metadata": {
  "kernelspec": {
   "display_name": "Python 3",
   "language": "python",
   "name": "python3"
  },
  "language_info": {
   "codemirror_mode": {
    "name": "ipython",
    "version": 3
   },
   "file_extension": ".py",
   "mimetype": "text/x-python",
   "name": "python",
   "nbconvert_exporter": "python",
   "pygments_lexer": "ipython3",
   "version": "3.6.5"
  }
 },
 "nbformat": 4,
 "nbformat_minor": 2
}
